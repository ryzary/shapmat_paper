{
 "cells": [
  {
   "cell_type": "code",
   "execution_count": 1,
   "id": "efd25d81-e065-44db-bd06-e0e67926ffe2",
   "metadata": {},
   "outputs": [],
   "source": [
    "import json\n",
    "import pandas as pd"
   ]
  },
  {
   "cell_type": "code",
   "execution_count": 2,
   "id": "49b89cdb-4c4b-495c-8bb5-29103de6eda4",
   "metadata": {},
   "outputs": [],
   "source": [
    "json_path = 'shapec_result_full.json'\n",
    "with open(json_path,'r') as f:\n",
    "    res = json.load(f)"
   ]
  },
  {
   "cell_type": "code",
   "execution_count": 3,
   "id": "0d444530-82c7-4a7f-907a-1ae7fdc87a0a",
   "metadata": {},
   "outputs": [
    {
     "data": {
      "text/plain": [
       "dict_keys(['YachidaS_2019', 'ZellerG_2014', 'WirbelJ_2018', 'VogtmannE_2016', 'YuJ_2015'])"
      ]
     },
     "execution_count": 3,
     "metadata": {},
     "output_type": "execute_result"
    }
   ],
   "source": [
    "res.keys()"
   ]
  },
  {
   "cell_type": "markdown",
   "id": "fbc99b75-22e8-4cc7-b322-7de1533951e5",
   "metadata": {},
   "source": [
    "## 1. YachidaS_2019"
   ]
  },
  {
   "cell_type": "code",
   "execution_count": 14,
   "id": "80e0dd64-5d0c-49bc-8ea9-a45bb5a439df",
   "metadata": {},
   "outputs": [
    {
     "data": {
      "text/html": [
       "<div>\n",
       "<style scoped>\n",
       "    .dataframe tbody tr th:only-of-type {\n",
       "        vertical-align: middle;\n",
       "    }\n",
       "\n",
       "    .dataframe tbody tr th {\n",
       "        vertical-align: top;\n",
       "    }\n",
       "\n",
       "    .dataframe thead th {\n",
       "        text-align: right;\n",
       "    }\n",
       "</style>\n",
       "<table border=\"1\" class=\"dataframe\">\n",
       "  <thead>\n",
       "    <tr style=\"text-align: right;\">\n",
       "      <th></th>\n",
       "      <th>YachidaS_2019</th>\n",
       "    </tr>\n",
       "  </thead>\n",
       "  <tbody>\n",
       "    <tr>\n",
       "      <th>RF_MLP2_pc2</th>\n",
       "      <td>0.84</td>\n",
       "    </tr>\n",
       "    <tr>\n",
       "      <th>RF_LR2_pc2</th>\n",
       "      <td>0.84</td>\n",
       "    </tr>\n",
       "    <tr>\n",
       "      <th>RF_LR2_pc3</th>\n",
       "      <td>0.83</td>\n",
       "    </tr>\n",
       "    <tr>\n",
       "      <th>RF_LR2_pc50</th>\n",
       "      <td>0.83</td>\n",
       "    </tr>\n",
       "    <tr>\n",
       "      <th>RF_RF2_pc2</th>\n",
       "      <td>0.82</td>\n",
       "    </tr>\n",
       "  </tbody>\n",
       "</table>\n",
       "</div>"
      ],
      "text/plain": [
       "             YachidaS_2019\n",
       "RF_MLP2_pc2           0.84\n",
       "RF_LR2_pc2            0.84\n",
       "RF_LR2_pc3            0.83\n",
       "RF_LR2_pc50           0.83\n",
       "RF_RF2_pc2            0.82"
      ]
     },
     "execution_count": 14,
     "metadata": {},
     "output_type": "execute_result"
    }
   ],
   "source": [
    "study = 'YachidaS_2019'\n",
    "pd.DataFrame(res)[[study]].sort_values('YachidaS_2019',ascending=False).round(2).head(5)"
   ]
  },
  {
   "cell_type": "markdown",
   "id": "7d604d48-0eaa-4bc8-ab71-0b35c387abfa",
   "metadata": {},
   "source": [
    "# 2. ZellerG_2014"
   ]
  },
  {
   "cell_type": "code",
   "execution_count": 19,
   "id": "3a64cd22-17d2-4422-9d3e-0f405fad3c62",
   "metadata": {},
   "outputs": [
    {
     "data": {
      "text/html": [
       "<div>\n",
       "<style scoped>\n",
       "    .dataframe tbody tr th:only-of-type {\n",
       "        vertical-align: middle;\n",
       "    }\n",
       "\n",
       "    .dataframe tbody tr th {\n",
       "        vertical-align: top;\n",
       "    }\n",
       "\n",
       "    .dataframe thead th {\n",
       "        text-align: right;\n",
       "    }\n",
       "</style>\n",
       "<table border=\"1\" class=\"dataframe\">\n",
       "  <thead>\n",
       "    <tr style=\"text-align: right;\">\n",
       "      <th></th>\n",
       "      <th>ZellerG_2014</th>\n",
       "    </tr>\n",
       "  </thead>\n",
       "  <tbody>\n",
       "    <tr>\n",
       "      <th>RF_LR2_pc50</th>\n",
       "      <td>0.85</td>\n",
       "    </tr>\n",
       "    <tr>\n",
       "      <th>RF_LR2_pc2</th>\n",
       "      <td>0.85</td>\n",
       "    </tr>\n",
       "    <tr>\n",
       "      <th>RF_LR2_pc3</th>\n",
       "      <td>0.85</td>\n",
       "    </tr>\n",
       "    <tr>\n",
       "      <th>RF_RF2_pc2</th>\n",
       "      <td>0.83</td>\n",
       "    </tr>\n",
       "    <tr>\n",
       "      <th>RF_MLP2_pc2</th>\n",
       "      <td>0.82</td>\n",
       "    </tr>\n",
       "  </tbody>\n",
       "</table>\n",
       "</div>"
      ],
      "text/plain": [
       "             ZellerG_2014\n",
       "RF_LR2_pc50          0.85\n",
       "RF_LR2_pc2           0.85\n",
       "RF_LR2_pc3           0.85\n",
       "RF_RF2_pc2           0.83\n",
       "RF_MLP2_pc2          0.82"
      ]
     },
     "execution_count": 19,
     "metadata": {},
     "output_type": "execute_result"
    }
   ],
   "source": [
    "study = 'ZellerG_2014'\n",
    "pd.DataFrame(res)[[study]].sort_values(study,ascending=False).round(2).head(5)"
   ]
  },
  {
   "cell_type": "markdown",
   "id": "314c294b-2329-43bf-9e54-3fa40cdc6674",
   "metadata": {},
   "source": [
    "# 3. WirbelJ_2018"
   ]
  },
  {
   "cell_type": "code",
   "execution_count": 20,
   "id": "fa1cf943-36ee-4304-9c61-5509def33fd5",
   "metadata": {},
   "outputs": [
    {
     "data": {
      "text/html": [
       "<div>\n",
       "<style scoped>\n",
       "    .dataframe tbody tr th:only-of-type {\n",
       "        vertical-align: middle;\n",
       "    }\n",
       "\n",
       "    .dataframe tbody tr th {\n",
       "        vertical-align: top;\n",
       "    }\n",
       "\n",
       "    .dataframe thead th {\n",
       "        text-align: right;\n",
       "    }\n",
       "</style>\n",
       "<table border=\"1\" class=\"dataframe\">\n",
       "  <thead>\n",
       "    <tr style=\"text-align: right;\">\n",
       "      <th></th>\n",
       "      <th>WirbelJ_2018</th>\n",
       "    </tr>\n",
       "  </thead>\n",
       "  <tbody>\n",
       "    <tr>\n",
       "      <th>RF_LR2_pc50</th>\n",
       "      <td>0.90</td>\n",
       "    </tr>\n",
       "    <tr>\n",
       "      <th>RF_LR2_pc2</th>\n",
       "      <td>0.90</td>\n",
       "    </tr>\n",
       "    <tr>\n",
       "      <th>RF_LR2_pc3</th>\n",
       "      <td>0.90</td>\n",
       "    </tr>\n",
       "    <tr>\n",
       "      <th>RF_MLP2_pc2</th>\n",
       "      <td>0.87</td>\n",
       "    </tr>\n",
       "    <tr>\n",
       "      <th>XGB_LR2_pc50</th>\n",
       "      <td>0.86</td>\n",
       "    </tr>\n",
       "  </tbody>\n",
       "</table>\n",
       "</div>"
      ],
      "text/plain": [
       "              WirbelJ_2018\n",
       "RF_LR2_pc50           0.90\n",
       "RF_LR2_pc2            0.90\n",
       "RF_LR2_pc3            0.90\n",
       "RF_MLP2_pc2           0.87\n",
       "XGB_LR2_pc50          0.86"
      ]
     },
     "execution_count": 20,
     "metadata": {},
     "output_type": "execute_result"
    }
   ],
   "source": [
    "study = 'WirbelJ_2018'\n",
    "pd.DataFrame(res)[[study]].sort_values(study,ascending=False).round(2).head(5)"
   ]
  },
  {
   "cell_type": "markdown",
   "id": "bd3512dd-46ee-4bcf-a291-5b0279b89e60",
   "metadata": {},
   "source": [
    "# 4. VogtmannE_2016"
   ]
  },
  {
   "cell_type": "code",
   "execution_count": 4,
   "id": "c4d1edda-f33e-47e5-9d90-2505b003bf24",
   "metadata": {},
   "outputs": [
    {
     "data": {
      "text/html": [
       "<div>\n",
       "<style scoped>\n",
       "    .dataframe tbody tr th:only-of-type {\n",
       "        vertical-align: middle;\n",
       "    }\n",
       "\n",
       "    .dataframe tbody tr th {\n",
       "        vertical-align: top;\n",
       "    }\n",
       "\n",
       "    .dataframe thead th {\n",
       "        text-align: right;\n",
       "    }\n",
       "</style>\n",
       "<table border=\"1\" class=\"dataframe\">\n",
       "  <thead>\n",
       "    <tr style=\"text-align: right;\">\n",
       "      <th></th>\n",
       "      <th>VogtmannE_2016</th>\n",
       "    </tr>\n",
       "  </thead>\n",
       "  <tbody>\n",
       "    <tr>\n",
       "      <th>RF_LR2_pc2</th>\n",
       "      <td>0.60</td>\n",
       "    </tr>\n",
       "    <tr>\n",
       "      <th>RF_LR2_pc50</th>\n",
       "      <td>0.58</td>\n",
       "    </tr>\n",
       "    <tr>\n",
       "      <th>RF_RF2_pc2</th>\n",
       "      <td>0.57</td>\n",
       "    </tr>\n",
       "    <tr>\n",
       "      <th>RF_LR2_pc3</th>\n",
       "      <td>0.57</td>\n",
       "    </tr>\n",
       "    <tr>\n",
       "      <th>RF_RF2_pc50</th>\n",
       "      <td>0.57</td>\n",
       "    </tr>\n",
       "  </tbody>\n",
       "</table>\n",
       "</div>"
      ],
      "text/plain": [
       "             VogtmannE_2016\n",
       "RF_LR2_pc2             0.60\n",
       "RF_LR2_pc50            0.58\n",
       "RF_RF2_pc2             0.57\n",
       "RF_LR2_pc3             0.57\n",
       "RF_RF2_pc50            0.57"
      ]
     },
     "execution_count": 4,
     "metadata": {},
     "output_type": "execute_result"
    }
   ],
   "source": [
    "study = 'VogtmannE_2016'\n",
    "pd.DataFrame(res)[[study]].sort_values(study,ascending=False).round(2).head(5)"
   ]
  },
  {
   "cell_type": "markdown",
   "id": "8ed99a40-3ac5-44ef-be06-0a5c811ad8fc",
   "metadata": {},
   "source": [
    "# 5. YuJ_2015"
   ]
  },
  {
   "cell_type": "code",
   "execution_count": 22,
   "id": "a480d18b-0ef0-4344-a8da-cc551f1c9c0b",
   "metadata": {},
   "outputs": [
    {
     "data": {
      "text/html": [
       "<div>\n",
       "<style scoped>\n",
       "    .dataframe tbody tr th:only-of-type {\n",
       "        vertical-align: middle;\n",
       "    }\n",
       "\n",
       "    .dataframe tbody tr th {\n",
       "        vertical-align: top;\n",
       "    }\n",
       "\n",
       "    .dataframe thead th {\n",
       "        text-align: right;\n",
       "    }\n",
       "</style>\n",
       "<table border=\"1\" class=\"dataframe\">\n",
       "  <thead>\n",
       "    <tr style=\"text-align: right;\">\n",
       "      <th></th>\n",
       "      <th>YuJ_2015</th>\n",
       "    </tr>\n",
       "  </thead>\n",
       "  <tbody>\n",
       "    <tr>\n",
       "      <th>XGB_LR2_pc3</th>\n",
       "      <td>0.86</td>\n",
       "    </tr>\n",
       "    <tr>\n",
       "      <th>XGB_MLP2_pc3</th>\n",
       "      <td>0.86</td>\n",
       "    </tr>\n",
       "    <tr>\n",
       "      <th>XGB_LR2_pc50</th>\n",
       "      <td>0.86</td>\n",
       "    </tr>\n",
       "    <tr>\n",
       "      <th>XGB_MLP2_pc50</th>\n",
       "      <td>0.85</td>\n",
       "    </tr>\n",
       "    <tr>\n",
       "      <th>RF_LR2_pc2</th>\n",
       "      <td>0.84</td>\n",
       "    </tr>\n",
       "  </tbody>\n",
       "</table>\n",
       "</div>"
      ],
      "text/plain": [
       "               YuJ_2015\n",
       "XGB_LR2_pc3        0.86\n",
       "XGB_MLP2_pc3       0.86\n",
       "XGB_LR2_pc50       0.86\n",
       "XGB_MLP2_pc50      0.85\n",
       "RF_LR2_pc2         0.84"
      ]
     },
     "execution_count": 22,
     "metadata": {},
     "output_type": "execute_result"
    }
   ],
   "source": [
    "study = 'YuJ_2015'\n",
    "pd.DataFrame(res)[[study]].sort_values(study,ascending=False).round(2).head(5)"
   ]
  },
  {
   "cell_type": "code",
   "execution_count": null,
   "id": "a455eede-be8e-40b6-a248-226f372f66e7",
   "metadata": {},
   "outputs": [],
   "source": []
  }
 ],
 "metadata": {
  "kernelspec": {
   "display_name": "Python 3 (ipykernel)",
   "language": "python",
   "name": "python3"
  },
  "language_info": {
   "codemirror_mode": {
    "name": "ipython",
    "version": 3
   },
   "file_extension": ".py",
   "mimetype": "text/x-python",
   "name": "python",
   "nbconvert_exporter": "python",
   "pygments_lexer": "ipython3",
   "version": "3.9.7"
  }
 },
 "nbformat": 4,
 "nbformat_minor": 5
}
