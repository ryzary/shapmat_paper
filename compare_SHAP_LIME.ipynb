{
 "cells": [
  {
   "cell_type": "code",
   "execution_count": 1,
   "id": "ee59b770-055a-4b82-8c48-e58ecd504c24",
   "metadata": {},
   "outputs": [],
   "source": [
    "import numpy as np\n",
    "import pandas as pd\n",
    "import shap\n",
    "import lime\n",
    "from utils.abundance_filtering import prevalence_filter\n",
    "from sklearn.ensemble import RandomForestClassifier\n",
    "import sklearn\n",
    "\n",
    "import shap"
   ]
  },
  {
   "cell_type": "markdown",
   "id": "3bb6539c-3065-4cf3-b9be-f786643d3ec4",
   "metadata": {},
   "source": [
    "# Interpretability Comparison"
   ]
  },
  {
   "cell_type": "code",
   "execution_count": 2,
   "id": "f6741e85-93fe-4c5b-ab0d-09a8a34b01b1",
   "metadata": {},
   "outputs": [],
   "source": [
    "# helper functions\n",
    "def extract_lime_val(lime_row):\n",
    "    lime_i_dict = {}\n",
    "    for note,val in lime_row:\n",
    "        note_split = note.split(' ')\n",
    "        bacteria = [i for i in note_split if '_' in i][0]\n",
    "\n",
    "        lime_i_dict[bacteria]=val\n",
    "\n",
    "    return lime_i_dict\n",
    "\n",
    "def generate_lime_df(X_test,clf,explainer):\n",
    "    l={}\n",
    "    for i in range(0,X_test.shape[0]):\n",
    "        sample_id=X_test.index[i]\n",
    "        exp = explainer.explain_instance(X_test.values[i], clf.predict_proba, num_features=X_test.shape[1],num_samples=5)\n",
    "        a=exp.as_list()\n",
    "        l[sample_id]=a\n",
    "    \n",
    "    lime_df = pd.DataFrame([extract_lime_val(row) for row in l.values()],index=l.keys())\n",
    "    \n",
    "    return lime_df"
   ]
  },
  {
   "cell_type": "markdown",
   "id": "cdc7af2c-9f3b-4b95-b82d-4c6d87032354",
   "metadata": {},
   "source": [
    "Source: Elshawi et al (2019) https://github.com/DataSystemsGroupUT/Interpretability-comparison"
   ]
  },
  {
   "cell_type": "markdown",
   "id": "603abab2-4c88-40a6-97dc-1a6847ae21b7",
   "metadata": {},
   "source": [
    "### Load Dataset"
   ]
  },
  {
   "cell_type": "code",
   "execution_count": 3,
   "id": "e6187612-a3e4-452b-a7c0-931c06dcc555",
   "metadata": {},
   "outputs": [],
   "source": [
    "bacteria_ab_path = 'data/bacteria_relative_abundance_concat.csv'\n",
    "prevalent_filter_thr = 0.90\n",
    "rel_ab_threshold= 1e-5"
   ]
  },
  {
   "cell_type": "code",
   "execution_count": 4,
   "id": "bc6b570d-dde2-45ba-87a0-630c7df3a214",
   "metadata": {},
   "outputs": [
    {
     "name": "stdout",
     "output_type": "stream",
     "text": [
      "(691, 226)\n"
     ]
    },
    {
     "data": {
      "text/html": [
       "<div>\n",
       "<style scoped>\n",
       "    .dataframe tbody tr th:only-of-type {\n",
       "        vertical-align: middle;\n",
       "    }\n",
       "\n",
       "    .dataframe tbody tr th {\n",
       "        vertical-align: top;\n",
       "    }\n",
       "\n",
       "    .dataframe thead th {\n",
       "        text-align: right;\n",
       "    }\n",
       "</style>\n",
       "<table border=\"1\" class=\"dataframe\">\n",
       "  <thead>\n",
       "    <tr style=\"text-align: right;\">\n",
       "      <th></th>\n",
       "      <th>Bacteroides_plebeius</th>\n",
       "      <th>Bacteroides_dorei</th>\n",
       "      <th>Faecalibacterium_prausnitzii</th>\n",
       "      <th>Eubacterium_eligens</th>\n",
       "      <th>Bacteroides_ovatus</th>\n",
       "      <th>Parabacteroides_distasonis</th>\n",
       "      <th>Ruminococcus_gnavus</th>\n",
       "      <th>Phascolarctobacterium_faecium</th>\n",
       "      <th>Bacteroides_uniformis</th>\n",
       "      <th>Bifidobacterium_longum</th>\n",
       "      <th>...</th>\n",
       "      <th>Enterococcus_faecalis</th>\n",
       "      <th>Coprobacillus_cateniformis</th>\n",
       "      <th>Oxalobacter_formigenes</th>\n",
       "      <th>Butyrivibrio_crossotus</th>\n",
       "      <th>Dialister_sp_CAG_357</th>\n",
       "      <th>Catenibacterium_mitsuokai</th>\n",
       "      <th>Christensenella_minuta</th>\n",
       "      <th>Lachnoclostridium_sp_An131</th>\n",
       "      <th>Clostridium_sp_CAG_167</th>\n",
       "      <th>Roseburia_sp_CAG_309</th>\n",
       "    </tr>\n",
       "  </thead>\n",
       "  <tbody>\n",
       "    <tr>\n",
       "      <th>SAMD00114722</th>\n",
       "      <td>0.000131</td>\n",
       "      <td>0.040444</td>\n",
       "      <td>0.006118</td>\n",
       "      <td>0.00954</td>\n",
       "      <td>0.009849</td>\n",
       "      <td>0.044138</td>\n",
       "      <td>0.080406</td>\n",
       "      <td>0.0</td>\n",
       "      <td>0.032940</td>\n",
       "      <td>0.006659</td>\n",
       "      <td>...</td>\n",
       "      <td>0.0</td>\n",
       "      <td>0.0</td>\n",
       "      <td>0.0</td>\n",
       "      <td>0.0</td>\n",
       "      <td>0.0</td>\n",
       "      <td>0.0</td>\n",
       "      <td>0.0</td>\n",
       "      <td>0.0</td>\n",
       "      <td>0.0</td>\n",
       "      <td>0.0</td>\n",
       "    </tr>\n",
       "    <tr>\n",
       "      <th>SAMD00114724</th>\n",
       "      <td>0.000077</td>\n",
       "      <td>0.238579</td>\n",
       "      <td>0.011717</td>\n",
       "      <td>0.00000</td>\n",
       "      <td>0.001122</td>\n",
       "      <td>0.009492</td>\n",
       "      <td>0.142257</td>\n",
       "      <td>0.0</td>\n",
       "      <td>0.014983</td>\n",
       "      <td>0.005242</td>\n",
       "      <td>...</td>\n",
       "      <td>0.0</td>\n",
       "      <td>0.0</td>\n",
       "      <td>0.0</td>\n",
       "      <td>0.0</td>\n",
       "      <td>0.0</td>\n",
       "      <td>0.0</td>\n",
       "      <td>0.0</td>\n",
       "      <td>0.0</td>\n",
       "      <td>0.0</td>\n",
       "      <td>0.0</td>\n",
       "    </tr>\n",
       "  </tbody>\n",
       "</table>\n",
       "<p>2 rows × 226 columns</p>\n",
       "</div>"
      ],
      "text/plain": [
       "              Bacteroides_plebeius  Bacteroides_dorei  \\\n",
       "SAMD00114722              0.000131           0.040444   \n",
       "SAMD00114724              0.000077           0.238579   \n",
       "\n",
       "              Faecalibacterium_prausnitzii  Eubacterium_eligens  \\\n",
       "SAMD00114722                      0.006118              0.00954   \n",
       "SAMD00114724                      0.011717              0.00000   \n",
       "\n",
       "              Bacteroides_ovatus  Parabacteroides_distasonis  \\\n",
       "SAMD00114722            0.009849                    0.044138   \n",
       "SAMD00114724            0.001122                    0.009492   \n",
       "\n",
       "              Ruminococcus_gnavus  Phascolarctobacterium_faecium  \\\n",
       "SAMD00114722             0.080406                            0.0   \n",
       "SAMD00114724             0.142257                            0.0   \n",
       "\n",
       "              Bacteroides_uniformis  Bifidobacterium_longum  ...  \\\n",
       "SAMD00114722               0.032940                0.006659  ...   \n",
       "SAMD00114724               0.014983                0.005242  ...   \n",
       "\n",
       "              Enterococcus_faecalis  Coprobacillus_cateniformis  \\\n",
       "SAMD00114722                    0.0                         0.0   \n",
       "SAMD00114724                    0.0                         0.0   \n",
       "\n",
       "              Oxalobacter_formigenes  Butyrivibrio_crossotus  \\\n",
       "SAMD00114722                     0.0                     0.0   \n",
       "SAMD00114724                     0.0                     0.0   \n",
       "\n",
       "              Dialister_sp_CAG_357  Catenibacterium_mitsuokai  \\\n",
       "SAMD00114722                   0.0                        0.0   \n",
       "SAMD00114724                   0.0                        0.0   \n",
       "\n",
       "              Christensenella_minuta  Lachnoclostridium_sp_An131  \\\n",
       "SAMD00114722                     0.0                         0.0   \n",
       "SAMD00114724                     0.0                         0.0   \n",
       "\n",
       "              Clostridium_sp_CAG_167  Roseburia_sp_CAG_309  \n",
       "SAMD00114722                     0.0                   0.0  \n",
       "SAMD00114724                     0.0                   0.0  \n",
       "\n",
       "[2 rows x 226 columns]"
      ]
     },
     "execution_count": 4,
     "metadata": {},
     "output_type": "execute_result"
    }
   ],
   "source": [
    "bacteria_ab = pd.read_csv('data/bacteria_relative_abundance_concat.csv',index_col=0)\n",
    "\n",
    "bacteria_ab_x = bacteria_ab.drop(['CRC', 'study_name'],axis=1)\n",
    "bacteria_ab_y = bacteria_ab['CRC']\n",
    "study_names_df = bacteria_ab[['study_name']]\n",
    "\n",
    "# preprocess\n",
    "bacteria_ab_x_preval = prevalence_filter(bacteria_ab_x,rel_ab_threshold , prevalent_filter_thr)\n",
    "# bacteria_ab_preval = pd.concat([bacteria_ab_x_preval,bacteria_ab_y],axis=1)\n",
    "\n",
    "print(bacteria_ab_x_preval.shape)\n",
    "bacteria_ab_x_preval.head(2)\n",
    "bacteria_ab_x_preval.head(2)"
   ]
  },
  {
   "cell_type": "markdown",
   "id": "6cb8438b-224c-4553-bda0-fffd9b0083d1",
   "metadata": {},
   "source": [
    "## 1. Identity"
   ]
  },
  {
   "cell_type": "markdown",
   "id": "c3c594a6-cbff-4983-bcc0-dd88df4eca27",
   "metadata": {},
   "source": [
    "- Identity: This metric states that if there are two identical instances, then they must have identical explanations.\n",
    "- for every two instances in the testing data set, if the distance between the two instances is equal to zero (identical), then the distance between their explanations should be equal to zero. (ElShawi et al., 2020)"
   ]
  },
  {
   "cell_type": "code",
   "execution_count": 5,
   "id": "12ac8f06-6b6f-40cd-bb9c-50fe33a8dd3e",
   "metadata": {},
   "outputs": [],
   "source": [
    "def calc_identity(exp1, exp2):\n",
    "    dis = np.linalg.norm(exp1-exp2, axis = 1)\n",
    "    total = dis.shape[0]\n",
    "    true = np.where(abs(dis)<1e-8)[0].shape[0]\n",
    "    violated = (total-true)/total # how many explanations vioalated the identity axiom\n",
    "    \n",
    "    satistfied = (1 - violated) *100 # percentage of explanations that satisfy the axiom\n",
    "    return satistfied"
   ]
  },
  {
   "cell_type": "markdown",
   "id": "71a5b054-fb7c-4d2f-b69a-edb448a75708",
   "metadata": {},
   "source": [
    "### SHAP"
   ]
  },
  {
   "cell_type": "code",
   "execution_count": 6,
   "id": "d47783d8-bded-4967-b1e1-9a7cbf966738",
   "metadata": {},
   "outputs": [],
   "source": [
    "study_names_unique = study_names_df['study_name'].unique()\n",
    "\n",
    "identity_shap = {}\n",
    "\n",
    "for study in study_names_unique:\n",
    "    train_idx = study_names_df[study_names_df['study_name']!=study].index\n",
    "    test_idx = study_names_df[study_names_df['study_name']==study].index\n",
    "    \n",
    "    X_train = bacteria_ab_x_preval.loc[train_idx]\n",
    "    y_train = bacteria_ab_y.loc[train_idx]\n",
    "    X_test = bacteria_ab_x_preval.loc[test_idx]\n",
    "    y_test = bacteria_ab_y.loc[test_idx]\n",
    "    \n",
    "    clf = RandomForestClassifier(n_jobs=-1,random_state=0)\n",
    "    clf.fit(X_train.values,y_train)\n",
    "    \n",
    "    # SHAP\n",
    "    shap_explainer_1 = shap.TreeExplainer(clf, data=X_test)\n",
    "    shap_explainer_2 = shap.TreeExplainer(clf, data=X_test)\n",
    "    \n",
    "    shap_explanations_1 = shap_explainer_1.shap_values(X_test)[1]\n",
    "    shap_explanations_2 = shap_explainer_2.shap_values(X_test)[1]\n",
    "    \n",
    "    shap_identity = calc_identity(shap_explanations_1,shap_explanations_2)\n",
    "    identity_shap[study]= shap_identity"
   ]
  },
  {
   "cell_type": "code",
   "execution_count": 7,
   "id": "7640b7c3-d1ef-43d3-a460-4190405fcf7a",
   "metadata": {},
   "outputs": [
    {
     "data": {
      "text/html": [
       "<div>\n",
       "<style scoped>\n",
       "    .dataframe tbody tr th:only-of-type {\n",
       "        vertical-align: middle;\n",
       "    }\n",
       "\n",
       "    .dataframe tbody tr th {\n",
       "        vertical-align: top;\n",
       "    }\n",
       "\n",
       "    .dataframe thead th {\n",
       "        text-align: right;\n",
       "    }\n",
       "</style>\n",
       "<table border=\"1\" class=\"dataframe\">\n",
       "  <thead>\n",
       "    <tr style=\"text-align: right;\">\n",
       "      <th></th>\n",
       "      <th>Identity</th>\n",
       "    </tr>\n",
       "  </thead>\n",
       "  <tbody>\n",
       "    <tr>\n",
       "      <th>YachidaS_2019</th>\n",
       "      <td>100.0</td>\n",
       "    </tr>\n",
       "    <tr>\n",
       "      <th>ZellerG_2014</th>\n",
       "      <td>100.0</td>\n",
       "    </tr>\n",
       "    <tr>\n",
       "      <th>WirbelJ_2018</th>\n",
       "      <td>100.0</td>\n",
       "    </tr>\n",
       "    <tr>\n",
       "      <th>YuJ_2015</th>\n",
       "      <td>100.0</td>\n",
       "    </tr>\n",
       "    <tr>\n",
       "      <th>VogtmannE_2016</th>\n",
       "      <td>100.0</td>\n",
       "    </tr>\n",
       "  </tbody>\n",
       "</table>\n",
       "</div>"
      ],
      "text/plain": [
       "                Identity\n",
       "YachidaS_2019      100.0\n",
       "ZellerG_2014       100.0\n",
       "WirbelJ_2018       100.0\n",
       "YuJ_2015           100.0\n",
       "VogtmannE_2016     100.0"
      ]
     },
     "execution_count": 7,
     "metadata": {},
     "output_type": "execute_result"
    }
   ],
   "source": [
    "identity_shap_df = pd.DataFrame.from_dict(identity_shap,orient='index',columns=['Identity'])\n",
    "identity_shap_df.to_csv('output/SHAP_LIME_compare/identity_shap.csv')\n",
    "identity_shap_df"
   ]
  },
  {
   "cell_type": "markdown",
   "id": "c00a278c-721f-41ce-8038-b77171abb3e0",
   "metadata": {},
   "source": [
    "### LIME"
   ]
  },
  {
   "cell_type": "code",
   "execution_count": 8,
   "id": "68ef75e0-ffe1-4a31-9268-335d38c255f0",
   "metadata": {},
   "outputs": [],
   "source": [
    "study_names_unique = study_names_df['study_name'].unique()\n",
    "identity_lime = {}\n",
    "\n",
    "for study in study_names_unique:\n",
    "    train_idx = study_names_df[study_names_df['study_name']!=study].index\n",
    "    test_idx = study_names_df[study_names_df['study_name']==study].index\n",
    "    \n",
    "    X_train = bacteria_ab_x_preval.loc[train_idx]\n",
    "    y_train = bacteria_ab_y.loc[train_idx]\n",
    "    X_test = bacteria_ab_x_preval.loc[test_idx]\n",
    "    y_test = bacteria_ab_y.loc[test_idx]\n",
    "    \n",
    "    clf = RandomForestClassifier(n_jobs=-1,random_state=0)\n",
    "    clf.fit(X_train.values,y_train)\n",
    "    \n",
    "    lime_explainer_1 = lime.lime_tabular.LimeTabularExplainer(X_train.values, feature_names=X_train.columns, discretize_continuous=True)\n",
    "    lime_explainer_2= lime.lime_tabular.LimeTabularExplainer(X_train.values, feature_names=X_train.columns, discretize_continuous=True)\n",
    "    \n",
    "    lime_explanations_1 = generate_lime_df(X_test=X_test, clf=clf,explainer=lime_explainer_1)\n",
    "    lime_explanations_2 = generate_lime_df(X_test=X_test, clf=clf,explainer=lime_explainer_2)\n",
    "    \n",
    "    # make index and columns the same\n",
    "    lime_explanations_2.index = lime_explanations_1.index\n",
    "    lime_explanations_2.columns = lime_explanations_1.columns\n",
    "    \n",
    "    lime_explanations_1 = lime_explanations_1.values\n",
    "    lime_explanations_2 = lime_explanations_2.values\n",
    "    \n",
    "    \n",
    "    lime_identity = calc_identity(lime_explanations_1,lime_explanations_2)\n",
    "    identity_lime[study]= lime_identity\n",
    "    "
   ]
  },
  {
   "cell_type": "code",
   "execution_count": 9,
   "id": "4225d226-7a71-4842-9d87-27e9e9e6b587",
   "metadata": {},
   "outputs": [
    {
     "data": {
      "text/html": [
       "<div>\n",
       "<style scoped>\n",
       "    .dataframe tbody tr th:only-of-type {\n",
       "        vertical-align: middle;\n",
       "    }\n",
       "\n",
       "    .dataframe tbody tr th {\n",
       "        vertical-align: top;\n",
       "    }\n",
       "\n",
       "    .dataframe thead th {\n",
       "        text-align: right;\n",
       "    }\n",
       "</style>\n",
       "<table border=\"1\" class=\"dataframe\">\n",
       "  <thead>\n",
       "    <tr style=\"text-align: right;\">\n",
       "      <th></th>\n",
       "      <th>Identity</th>\n",
       "    </tr>\n",
       "  </thead>\n",
       "  <tbody>\n",
       "    <tr>\n",
       "      <th>YachidaS_2019</th>\n",
       "      <td>0.0</td>\n",
       "    </tr>\n",
       "    <tr>\n",
       "      <th>ZellerG_2014</th>\n",
       "      <td>0.0</td>\n",
       "    </tr>\n",
       "    <tr>\n",
       "      <th>WirbelJ_2018</th>\n",
       "      <td>0.0</td>\n",
       "    </tr>\n",
       "    <tr>\n",
       "      <th>YuJ_2015</th>\n",
       "      <td>0.0</td>\n",
       "    </tr>\n",
       "    <tr>\n",
       "      <th>VogtmannE_2016</th>\n",
       "      <td>0.0</td>\n",
       "    </tr>\n",
       "  </tbody>\n",
       "</table>\n",
       "</div>"
      ],
      "text/plain": [
       "                Identity\n",
       "YachidaS_2019        0.0\n",
       "ZellerG_2014         0.0\n",
       "WirbelJ_2018         0.0\n",
       "YuJ_2015             0.0\n",
       "VogtmannE_2016       0.0"
      ]
     },
     "execution_count": 9,
     "metadata": {},
     "output_type": "execute_result"
    }
   ],
   "source": [
    "identity_lime_df = pd.DataFrame.from_dict(identity_lime,orient='index',columns=['Identity'])\n",
    "identity_lime_df.to_csv('output/SHAP_LIME_compare/identity_lime.csv')\n",
    "identity_lime_df"
   ]
  },
  {
   "cell_type": "markdown",
   "id": "73ec4ada-178c-45a1-8811-ef50acf3f413",
   "metadata": {},
   "source": [
    "# 2. Separability"
   ]
  },
  {
   "cell_type": "markdown",
   "id": "f52f030d-ce15-4ca1-87b2-5d9d03d7c7fd",
   "metadata": {},
   "source": [
    "- Separability: This metric states that if there are two dissimilar instances,then they must have dissimilar explanations. \n",
    "- This metric holds the assumption that the model does not have degree of freedom; this means that all the features used in the model are relevant to the prediction. (ElShawi et al., 2020)\n",
    " "
   ]
  },
  {
   "cell_type": "code",
   "execution_count": 10,
   "id": "8a3c072c-6b04-497c-b87e-fe3db8b68694",
   "metadata": {},
   "outputs": [],
   "source": [
    "def calc_separability(exp):\n",
    "    violated = 0\n",
    "    for i in range(exp.shape[0]):\n",
    "        for j in range(exp.shape[0]):\n",
    "            if i == j:\n",
    "                continue\n",
    "            eq = np.array_equal(exp[i],exp[j])\n",
    "            if eq:\n",
    "                violated += 1\n",
    "    total = exp.shape[0]\n",
    "    \n",
    "    satistfied = (1 - violated) *100 # percentage of explanations that satisfy the axiom\n",
    "\n",
    "    return satistfied"
   ]
  },
  {
   "cell_type": "markdown",
   "id": "985969a1-2f36-4b4e-b12e-f1d5af5861fe",
   "metadata": {},
   "source": [
    "## SHAP"
   ]
  },
  {
   "cell_type": "code",
   "execution_count": 11,
   "id": "58bd554d-85ce-4f55-ad53-bc19909e9d4c",
   "metadata": {},
   "outputs": [],
   "source": [
    "study_names_unique = study_names_df['study_name'].unique()\n",
    "\n",
    "separability_shap = {}\n",
    "\n",
    "for study in study_names_unique:\n",
    "    train_idx = study_names_df[study_names_df['study_name']!=study].index\n",
    "    test_idx = study_names_df[study_names_df['study_name']==study].index\n",
    "    \n",
    "    X_train = bacteria_ab_x_preval.loc[train_idx]\n",
    "    y_train = bacteria_ab_y.loc[train_idx]\n",
    "    X_test = bacteria_ab_x_preval.loc[test_idx]\n",
    "    y_test = bacteria_ab_y.loc[test_idx]\n",
    "    \n",
    "    clf = RandomForestClassifier(n_jobs=-1,random_state=0)\n",
    "    clf.fit(X_train.values,y_train)\n",
    "    \n",
    "    # SHAP\n",
    "    shap_explainer_1 = shap.TreeExplainer(clf, data=X_test)\n",
    "    shap_explanations_1 = shap_explainer_1.shap_values(X_test)[1]\n",
    "    \n",
    "    shap_separability= calc_separability(shap_explanations_1)\n",
    "    separability_shap[study]= shap_separability"
   ]
  },
  {
   "cell_type": "code",
   "execution_count": 12,
   "id": "4929697d-7bb7-4aea-b70a-cdb13187e10e",
   "metadata": {},
   "outputs": [
    {
     "data": {
      "text/html": [
       "<div>\n",
       "<style scoped>\n",
       "    .dataframe tbody tr th:only-of-type {\n",
       "        vertical-align: middle;\n",
       "    }\n",
       "\n",
       "    .dataframe tbody tr th {\n",
       "        vertical-align: top;\n",
       "    }\n",
       "\n",
       "    .dataframe thead th {\n",
       "        text-align: right;\n",
       "    }\n",
       "</style>\n",
       "<table border=\"1\" class=\"dataframe\">\n",
       "  <thead>\n",
       "    <tr style=\"text-align: right;\">\n",
       "      <th></th>\n",
       "      <th>Separability</th>\n",
       "    </tr>\n",
       "  </thead>\n",
       "  <tbody>\n",
       "    <tr>\n",
       "      <th>YachidaS_2019</th>\n",
       "      <td>100</td>\n",
       "    </tr>\n",
       "    <tr>\n",
       "      <th>ZellerG_2014</th>\n",
       "      <td>100</td>\n",
       "    </tr>\n",
       "    <tr>\n",
       "      <th>WirbelJ_2018</th>\n",
       "      <td>100</td>\n",
       "    </tr>\n",
       "    <tr>\n",
       "      <th>YuJ_2015</th>\n",
       "      <td>100</td>\n",
       "    </tr>\n",
       "    <tr>\n",
       "      <th>VogtmannE_2016</th>\n",
       "      <td>100</td>\n",
       "    </tr>\n",
       "  </tbody>\n",
       "</table>\n",
       "</div>"
      ],
      "text/plain": [
       "                Separability\n",
       "YachidaS_2019            100\n",
       "ZellerG_2014             100\n",
       "WirbelJ_2018             100\n",
       "YuJ_2015                 100\n",
       "VogtmannE_2016           100"
      ]
     },
     "execution_count": 12,
     "metadata": {},
     "output_type": "execute_result"
    }
   ],
   "source": [
    "separability_shap_df = pd.DataFrame.from_dict(separability_shap,orient='index',columns=['Separability'])\n",
    "separability_shap_df.to_csv('output/SHAP_LIME_compare/separability_shap.csv')\n",
    "separability_shap_df"
   ]
  },
  {
   "cell_type": "markdown",
   "id": "7975acae-7b4d-4c60-a615-d91a4a93e931",
   "metadata": {},
   "source": [
    "## LIME"
   ]
  },
  {
   "cell_type": "code",
   "execution_count": 13,
   "id": "e4f5cdc9-b939-427d-8a9d-3d47d082bf7b",
   "metadata": {},
   "outputs": [],
   "source": [
    "study_names_unique = study_names_df['study_name'].unique()\n",
    "separability_lime = {}\n",
    "\n",
    "for study in study_names_unique:\n",
    "    train_idx = study_names_df[study_names_df['study_name']!=study].index\n",
    "    test_idx = study_names_df[study_names_df['study_name']==study].index\n",
    "    \n",
    "    X_train = bacteria_ab_x_preval.loc[train_idx]\n",
    "    y_train = bacteria_ab_y.loc[train_idx]\n",
    "    X_test = bacteria_ab_x_preval.loc[test_idx]\n",
    "    y_test = bacteria_ab_y.loc[test_idx]\n",
    "    \n",
    "    clf = RandomForestClassifier(n_jobs=-1,random_state=0)\n",
    "    clf.fit(X_train.values,y_train)\n",
    "    \n",
    "    lime_explainer_1 = lime.lime_tabular.LimeTabularExplainer(X_train.values, feature_names=X_train.columns, discretize_continuous=True)    \n",
    "    lime_explanations_1 = generate_lime_df(X_test=X_test, clf=clf,explainer=lime_explainer_1).values\n",
    "    \n",
    "    lime_separability = calc_separability(lime_explanations_1)\n",
    "    separability_lime[study]= lime_separability"
   ]
  },
  {
   "cell_type": "code",
   "execution_count": 14,
   "id": "337f3893-0315-41a8-b3f4-2a99b23d8401",
   "metadata": {},
   "outputs": [
    {
     "data": {
      "text/html": [
       "<div>\n",
       "<style scoped>\n",
       "    .dataframe tbody tr th:only-of-type {\n",
       "        vertical-align: middle;\n",
       "    }\n",
       "\n",
       "    .dataframe tbody tr th {\n",
       "        vertical-align: top;\n",
       "    }\n",
       "\n",
       "    .dataframe thead th {\n",
       "        text-align: right;\n",
       "    }\n",
       "</style>\n",
       "<table border=\"1\" class=\"dataframe\">\n",
       "  <thead>\n",
       "    <tr style=\"text-align: right;\">\n",
       "      <th></th>\n",
       "      <th>Separability</th>\n",
       "    </tr>\n",
       "  </thead>\n",
       "  <tbody>\n",
       "    <tr>\n",
       "      <th>YachidaS_2019</th>\n",
       "      <td>100</td>\n",
       "    </tr>\n",
       "    <tr>\n",
       "      <th>ZellerG_2014</th>\n",
       "      <td>100</td>\n",
       "    </tr>\n",
       "    <tr>\n",
       "      <th>WirbelJ_2018</th>\n",
       "      <td>100</td>\n",
       "    </tr>\n",
       "    <tr>\n",
       "      <th>YuJ_2015</th>\n",
       "      <td>100</td>\n",
       "    </tr>\n",
       "    <tr>\n",
       "      <th>VogtmannE_2016</th>\n",
       "      <td>100</td>\n",
       "    </tr>\n",
       "  </tbody>\n",
       "</table>\n",
       "</div>"
      ],
      "text/plain": [
       "                Separability\n",
       "YachidaS_2019            100\n",
       "ZellerG_2014             100\n",
       "WirbelJ_2018             100\n",
       "YuJ_2015                 100\n",
       "VogtmannE_2016           100"
      ]
     },
     "execution_count": 14,
     "metadata": {},
     "output_type": "execute_result"
    }
   ],
   "source": [
    "separability_lime_df = pd.DataFrame.from_dict(separability_lime,orient='index',columns=['Separability'])\n",
    "separability_lime_df.to_csv('output/SHAP_LIME_compare/separability_lime.csv')\n",
    "separability_lime_df"
   ]
  },
  {
   "cell_type": "markdown",
   "id": "fabbeded-fac1-49b8-965f-bef0f7df3e4d",
   "metadata": {},
   "source": [
    "# 3. Stability"
   ]
  },
  {
   "cell_type": "markdown",
   "id": "a0def58d-114e-463d-9905-2f227b5f3926",
   "metadata": {},
   "source": [
    "- Stability: This metric states that instances belong to the same class must have comparable explanations.\n",
    "- Measuring the stability metric is done by clustering the explanations of all instances in the testing data set using K-means clustering algorithm such that the number of clusters equals to the number of labels of the data set. For each instance in the testing data set, we compare the cluster label assigned to its explanation after clustering with the instance’s predicted class label and if they match then this explanation satisfies the stability metric. (ElShawi et al., 2020)"
   ]
  },
  {
   "cell_type": "code",
   "execution_count": 15,
   "id": "f84d2f5e-9624-4bc5-9077-df9b0071dec1",
   "metadata": {},
   "outputs": [],
   "source": [
    "def calc_stability(exp, labels):\n",
    "    total = labels.shape[0]\n",
    "    label_values = np.unique(labels)\n",
    "    n_clusters = label_values.shape[0]\n",
    "    init = np.array([[np.average(exp[np.where(labels == i)], axis = 0)] for i in label_values]).squeeze()\n",
    "    ct = sklearn.cluster.KMeans(n_clusters = n_clusters, random_state=1, n_init=1,init = init)\n",
    "    ct.fit(exp)\n",
    "    error = np.sum(np.abs(labels-ct.labels_))\n",
    "    if error/total > 0.5:\n",
    "        error = total-error\n",
    "        \n",
    "    score = 1 - (error/total)\n",
    "    score = round(score,3)*100\n",
    "    return score"
   ]
  },
  {
   "cell_type": "markdown",
   "id": "b5145c77-2348-4637-87d4-8625bc40e3ac",
   "metadata": {},
   "source": [
    "## SHAP"
   ]
  },
  {
   "cell_type": "code",
   "execution_count": 16,
   "id": "88e9c792-ade5-4bd5-8590-095a3cfa9004",
   "metadata": {},
   "outputs": [],
   "source": [
    "study_names_unique = study_names_df['study_name'].unique()\n",
    "\n",
    "stability_shap = {}\n",
    "\n",
    "for study in study_names_unique:\n",
    "    train_idx = study_names_df[study_names_df['study_name']!=study].index\n",
    "    test_idx = study_names_df[study_names_df['study_name']==study].index\n",
    "    \n",
    "    X_train = bacteria_ab_x_preval.loc[train_idx]\n",
    "    y_train = bacteria_ab_y.loc[train_idx]\n",
    "    X_test = bacteria_ab_x_preval.loc[test_idx]\n",
    "    y_test = bacteria_ab_y.loc[test_idx]\n",
    "    \n",
    "    clf = RandomForestClassifier(n_jobs=-1,random_state=0)\n",
    "    clf.fit(X_train.values,y_train)\n",
    "    \n",
    "    # SHAP\n",
    "    shap_explainer_1 = shap.TreeExplainer(clf, data=X_test)\n",
    "    shap_explanations_1 = shap_explainer_1.shap_values(X_test)[1]\n",
    "    \n",
    "    shap_stability= calc_stability(shap_explanations_1,labels=y_test)\n",
    "    stability_shap[study]= shap_stability"
   ]
  },
  {
   "cell_type": "code",
   "execution_count": 17,
   "id": "684b606a-bcf2-47c9-be50-06d1286b1eae",
   "metadata": {},
   "outputs": [
    {
     "data": {
      "text/html": [
       "<div>\n",
       "<style scoped>\n",
       "    .dataframe tbody tr th:only-of-type {\n",
       "        vertical-align: middle;\n",
       "    }\n",
       "\n",
       "    .dataframe tbody tr th {\n",
       "        vertical-align: top;\n",
       "    }\n",
       "\n",
       "    .dataframe thead th {\n",
       "        text-align: right;\n",
       "    }\n",
       "</style>\n",
       "<table border=\"1\" class=\"dataframe\">\n",
       "  <thead>\n",
       "    <tr style=\"text-align: right;\">\n",
       "      <th></th>\n",
       "      <th>Stability</th>\n",
       "    </tr>\n",
       "  </thead>\n",
       "  <tbody>\n",
       "    <tr>\n",
       "      <th>YachidaS_2019</th>\n",
       "      <td>74.1</td>\n",
       "    </tr>\n",
       "    <tr>\n",
       "      <th>ZellerG_2014</th>\n",
       "      <td>62.3</td>\n",
       "    </tr>\n",
       "    <tr>\n",
       "      <th>WirbelJ_2018</th>\n",
       "      <td>75.2</td>\n",
       "    </tr>\n",
       "    <tr>\n",
       "      <th>YuJ_2015</th>\n",
       "      <td>65.6</td>\n",
       "    </tr>\n",
       "    <tr>\n",
       "      <th>VogtmannE_2016</th>\n",
       "      <td>63.5</td>\n",
       "    </tr>\n",
       "  </tbody>\n",
       "</table>\n",
       "</div>"
      ],
      "text/plain": [
       "                Stability\n",
       "YachidaS_2019        74.1\n",
       "ZellerG_2014         62.3\n",
       "WirbelJ_2018         75.2\n",
       "YuJ_2015             65.6\n",
       "VogtmannE_2016       63.5"
      ]
     },
     "execution_count": 17,
     "metadata": {},
     "output_type": "execute_result"
    }
   ],
   "source": [
    "stability_shap_df = pd.DataFrame.from_dict(stability_shap,orient='index',columns=['Stability'])\n",
    "stability_shap_df.to_csv('output/SHAP_LIME_compare/stability_shap.csv')\n",
    "stability_shap_df"
   ]
  },
  {
   "cell_type": "code",
   "execution_count": 18,
   "id": "4a31224d-a245-4e3a-903e-3813d23ce9c8",
   "metadata": {},
   "outputs": [
    {
     "data": {
      "text/plain": [
       "Stability    68.14\n",
       "dtype: float64"
      ]
     },
     "execution_count": 18,
     "metadata": {},
     "output_type": "execute_result"
    }
   ],
   "source": [
    "stability_shap_df.mean()"
   ]
  },
  {
   "cell_type": "markdown",
   "id": "6572be5e-26ce-496a-b2c0-9d9025076f04",
   "metadata": {},
   "source": [
    "# LIME"
   ]
  },
  {
   "cell_type": "code",
   "execution_count": 19,
   "id": "e310629a-9e3f-4aef-8bf8-8f3d6f0e7111",
   "metadata": {},
   "outputs": [],
   "source": [
    "study_names_unique = study_names_df['study_name'].unique()\n",
    "stability_lime = {}\n",
    "\n",
    "for study in study_names_unique:\n",
    "    train_idx = study_names_df[study_names_df['study_name']!=study].index\n",
    "    test_idx = study_names_df[study_names_df['study_name']==study].index\n",
    "    \n",
    "    X_train = bacteria_ab_x_preval.loc[train_idx]\n",
    "    y_train = bacteria_ab_y.loc[train_idx]\n",
    "    X_test = bacteria_ab_x_preval.loc[test_idx]\n",
    "    y_test = bacteria_ab_y.loc[test_idx]\n",
    "    \n",
    "    clf = RandomForestClassifier(n_jobs=-1,random_state=0)\n",
    "    clf.fit(X_train.values,y_train)\n",
    "    \n",
    "    lime_explainer_1 = lime.lime_tabular.LimeTabularExplainer(X_train.values, feature_names=X_train.columns, discretize_continuous=True)    \n",
    "    lime_explanations_1 = generate_lime_df(X_test=X_test, clf=clf,explainer=lime_explainer_1).values\n",
    "    \n",
    "    lime_stability = calc_stability(lime_explanations_1,labels=y_test)\n",
    "    stability_lime[study]= lime_stability"
   ]
  },
  {
   "cell_type": "code",
   "execution_count": 20,
   "id": "1799e518-40f9-4732-8d38-fcaa40e9308b",
   "metadata": {},
   "outputs": [
    {
     "data": {
      "text/html": [
       "<div>\n",
       "<style scoped>\n",
       "    .dataframe tbody tr th:only-of-type {\n",
       "        vertical-align: middle;\n",
       "    }\n",
       "\n",
       "    .dataframe tbody tr th {\n",
       "        vertical-align: top;\n",
       "    }\n",
       "\n",
       "    .dataframe thead th {\n",
       "        text-align: right;\n",
       "    }\n",
       "</style>\n",
       "<table border=\"1\" class=\"dataframe\">\n",
       "  <thead>\n",
       "    <tr style=\"text-align: right;\">\n",
       "      <th></th>\n",
       "      <th>Stability</th>\n",
       "    </tr>\n",
       "  </thead>\n",
       "  <tbody>\n",
       "    <tr>\n",
       "      <th>YachidaS_2019</th>\n",
       "      <td>70.0</td>\n",
       "    </tr>\n",
       "    <tr>\n",
       "      <th>ZellerG_2014</th>\n",
       "      <td>69.3</td>\n",
       "    </tr>\n",
       "    <tr>\n",
       "      <th>WirbelJ_2018</th>\n",
       "      <td>77.6</td>\n",
       "    </tr>\n",
       "    <tr>\n",
       "      <th>YuJ_2015</th>\n",
       "      <td>78.1</td>\n",
       "    </tr>\n",
       "    <tr>\n",
       "      <th>VogtmannE_2016</th>\n",
       "      <td>63.5</td>\n",
       "    </tr>\n",
       "  </tbody>\n",
       "</table>\n",
       "</div>"
      ],
      "text/plain": [
       "                Stability\n",
       "YachidaS_2019        70.0\n",
       "ZellerG_2014         69.3\n",
       "WirbelJ_2018         77.6\n",
       "YuJ_2015             78.1\n",
       "VogtmannE_2016       63.5"
      ]
     },
     "execution_count": 20,
     "metadata": {},
     "output_type": "execute_result"
    }
   ],
   "source": [
    "stability_lime_df = pd.DataFrame.from_dict(stability_lime,orient='index',columns=['Stability'])\n",
    "stability_lime_df.to_csv('output/SHAP_LIME_compare/stability_lime.csv')\n",
    "stability_lime_df"
   ]
  },
  {
   "cell_type": "code",
   "execution_count": 21,
   "id": "5e42f0b0-6c83-4403-ba9b-597627b00d37",
   "metadata": {},
   "outputs": [
    {
     "data": {
      "text/plain": [
       "Stability    71.7\n",
       "dtype: float64"
      ]
     },
     "execution_count": 21,
     "metadata": {},
     "output_type": "execute_result"
    }
   ],
   "source": [
    "stability_lime_df.mean()"
   ]
  },
  {
   "cell_type": "markdown",
   "id": "5193acf6-e97d-4021-97d9-ad406871c3f6",
   "metadata": {},
   "source": [
    "# Summary"
   ]
  },
  {
   "cell_type": "code",
   "execution_count": 22,
   "id": "74a246f2-cc21-424f-a9a7-2b2e0fe6ef65",
   "metadata": {},
   "outputs": [
    {
     "data": {
      "text/html": [
       "<div>\n",
       "<style scoped>\n",
       "    .dataframe tbody tr th:only-of-type {\n",
       "        vertical-align: middle;\n",
       "    }\n",
       "\n",
       "    .dataframe tbody tr th {\n",
       "        vertical-align: top;\n",
       "    }\n",
       "\n",
       "    .dataframe thead th {\n",
       "        text-align: right;\n",
       "    }\n",
       "</style>\n",
       "<table border=\"1\" class=\"dataframe\">\n",
       "  <thead>\n",
       "    <tr style=\"text-align: right;\">\n",
       "      <th></th>\n",
       "      <th>Identity</th>\n",
       "      <th>Separability</th>\n",
       "      <th>Stability</th>\n",
       "    </tr>\n",
       "  </thead>\n",
       "  <tbody>\n",
       "    <tr>\n",
       "      <th>YachidaS_2019</th>\n",
       "      <td>100.0</td>\n",
       "      <td>100</td>\n",
       "      <td>74.1</td>\n",
       "    </tr>\n",
       "    <tr>\n",
       "      <th>ZellerG_2014</th>\n",
       "      <td>100.0</td>\n",
       "      <td>100</td>\n",
       "      <td>62.3</td>\n",
       "    </tr>\n",
       "    <tr>\n",
       "      <th>WirbelJ_2018</th>\n",
       "      <td>100.0</td>\n",
       "      <td>100</td>\n",
       "      <td>75.2</td>\n",
       "    </tr>\n",
       "    <tr>\n",
       "      <th>YuJ_2015</th>\n",
       "      <td>100.0</td>\n",
       "      <td>100</td>\n",
       "      <td>65.6</td>\n",
       "    </tr>\n",
       "    <tr>\n",
       "      <th>VogtmannE_2016</th>\n",
       "      <td>100.0</td>\n",
       "      <td>100</td>\n",
       "      <td>63.5</td>\n",
       "    </tr>\n",
       "  </tbody>\n",
       "</table>\n",
       "</div>"
      ],
      "text/plain": [
       "                Identity  Separability  Stability\n",
       "YachidaS_2019      100.0           100       74.1\n",
       "ZellerG_2014       100.0           100       62.3\n",
       "WirbelJ_2018       100.0           100       75.2\n",
       "YuJ_2015           100.0           100       65.6\n",
       "VogtmannE_2016     100.0           100       63.5"
      ]
     },
     "execution_count": 22,
     "metadata": {},
     "output_type": "execute_result"
    }
   ],
   "source": [
    "shap_res = [identity_shap_df, separability_shap_df, stability_shap_df]\n",
    "shap_res_df = pd.concat(shap_res,axis=1)\n",
    "\n",
    "shap_res_df.to_excel('output/SHAP_LIME_compare/shap_result.xlsx')\n",
    "shap_res_df"
   ]
  },
  {
   "cell_type": "code",
   "execution_count": 23,
   "id": "939e8c2e-c4f3-4d5d-82d7-95c202e8bd8b",
   "metadata": {},
   "outputs": [
    {
     "data": {
      "text/html": [
       "<div>\n",
       "<style scoped>\n",
       "    .dataframe tbody tr th:only-of-type {\n",
       "        vertical-align: middle;\n",
       "    }\n",
       "\n",
       "    .dataframe tbody tr th {\n",
       "        vertical-align: top;\n",
       "    }\n",
       "\n",
       "    .dataframe thead th {\n",
       "        text-align: right;\n",
       "    }\n",
       "</style>\n",
       "<table border=\"1\" class=\"dataframe\">\n",
       "  <thead>\n",
       "    <tr style=\"text-align: right;\">\n",
       "      <th></th>\n",
       "      <th>Identity</th>\n",
       "      <th>Separability</th>\n",
       "      <th>Stability</th>\n",
       "    </tr>\n",
       "  </thead>\n",
       "  <tbody>\n",
       "    <tr>\n",
       "      <th>YachidaS_2019</th>\n",
       "      <td>0.0</td>\n",
       "      <td>100</td>\n",
       "      <td>70.0</td>\n",
       "    </tr>\n",
       "    <tr>\n",
       "      <th>ZellerG_2014</th>\n",
       "      <td>0.0</td>\n",
       "      <td>100</td>\n",
       "      <td>69.3</td>\n",
       "    </tr>\n",
       "    <tr>\n",
       "      <th>WirbelJ_2018</th>\n",
       "      <td>0.0</td>\n",
       "      <td>100</td>\n",
       "      <td>77.6</td>\n",
       "    </tr>\n",
       "    <tr>\n",
       "      <th>YuJ_2015</th>\n",
       "      <td>0.0</td>\n",
       "      <td>100</td>\n",
       "      <td>78.1</td>\n",
       "    </tr>\n",
       "    <tr>\n",
       "      <th>VogtmannE_2016</th>\n",
       "      <td>0.0</td>\n",
       "      <td>100</td>\n",
       "      <td>63.5</td>\n",
       "    </tr>\n",
       "  </tbody>\n",
       "</table>\n",
       "</div>"
      ],
      "text/plain": [
       "                Identity  Separability  Stability\n",
       "YachidaS_2019        0.0           100       70.0\n",
       "ZellerG_2014         0.0           100       69.3\n",
       "WirbelJ_2018         0.0           100       77.6\n",
       "YuJ_2015             0.0           100       78.1\n",
       "VogtmannE_2016       0.0           100       63.5"
      ]
     },
     "execution_count": 23,
     "metadata": {},
     "output_type": "execute_result"
    }
   ],
   "source": [
    "lime_res = [identity_lime_df, separability_lime_df, stability_lime_df]\n",
    "lime_res_df = pd.concat(lime_res,axis=1)\n",
    "\n",
    "lime_res_df.to_excel('output/SHAP_LIME_compare/lime_result.xlsx')\n",
    "lime_res_df"
   ]
  },
  {
   "cell_type": "code",
   "execution_count": 24,
   "id": "10e1e27c-5dc2-463d-b5bb-d5ad8ac7aa88",
   "metadata": {},
   "outputs": [
    {
     "data": {
      "text/html": [
       "<div>\n",
       "<style scoped>\n",
       "    .dataframe tbody tr th:only-of-type {\n",
       "        vertical-align: middle;\n",
       "    }\n",
       "\n",
       "    .dataframe tbody tr th {\n",
       "        vertical-align: top;\n",
       "    }\n",
       "\n",
       "    .dataframe thead th {\n",
       "        text-align: right;\n",
       "    }\n",
       "</style>\n",
       "<table border=\"1\" class=\"dataframe\">\n",
       "  <thead>\n",
       "    <tr style=\"text-align: right;\">\n",
       "      <th></th>\n",
       "      <th>Identity</th>\n",
       "      <th>Separability</th>\n",
       "      <th>Stability</th>\n",
       "    </tr>\n",
       "  </thead>\n",
       "  <tbody>\n",
       "    <tr>\n",
       "      <th>YachidaS_2019</th>\n",
       "      <td>-100.0</td>\n",
       "      <td>0</td>\n",
       "      <td>-4.1</td>\n",
       "    </tr>\n",
       "    <tr>\n",
       "      <th>ZellerG_2014</th>\n",
       "      <td>-100.0</td>\n",
       "      <td>0</td>\n",
       "      <td>7.0</td>\n",
       "    </tr>\n",
       "    <tr>\n",
       "      <th>WirbelJ_2018</th>\n",
       "      <td>-100.0</td>\n",
       "      <td>0</td>\n",
       "      <td>2.4</td>\n",
       "    </tr>\n",
       "    <tr>\n",
       "      <th>YuJ_2015</th>\n",
       "      <td>-100.0</td>\n",
       "      <td>0</td>\n",
       "      <td>12.5</td>\n",
       "    </tr>\n",
       "    <tr>\n",
       "      <th>VogtmannE_2016</th>\n",
       "      <td>-100.0</td>\n",
       "      <td>0</td>\n",
       "      <td>0.0</td>\n",
       "    </tr>\n",
       "  </tbody>\n",
       "</table>\n",
       "</div>"
      ],
      "text/plain": [
       "                Identity  Separability  Stability\n",
       "YachidaS_2019     -100.0             0       -4.1\n",
       "ZellerG_2014      -100.0             0        7.0\n",
       "WirbelJ_2018      -100.0             0        2.4\n",
       "YuJ_2015          -100.0             0       12.5\n",
       "VogtmannE_2016    -100.0             0        0.0"
      ]
     },
     "execution_count": 24,
     "metadata": {},
     "output_type": "execute_result"
    }
   ],
   "source": [
    "lime_res_df-shap_res_df"
   ]
  },
  {
   "cell_type": "code",
   "execution_count": null,
   "id": "f43a6b4a-d427-43c9-a242-0314a85b148c",
   "metadata": {},
   "outputs": [],
   "source": []
  }
 ],
 "metadata": {
  "kernelspec": {
   "display_name": "Python 3 (ipykernel)",
   "language": "python",
   "name": "python3"
  },
  "language_info": {
   "codemirror_mode": {
    "name": "ipython",
    "version": 3
   },
   "file_extension": ".py",
   "mimetype": "text/x-python",
   "name": "python",
   "nbconvert_exporter": "python",
   "pygments_lexer": "ipython3",
   "version": "3.9.7"
  }
 },
 "nbformat": 4,
 "nbformat_minor": 5
}
